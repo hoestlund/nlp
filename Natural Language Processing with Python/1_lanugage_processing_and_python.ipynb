{
 "cells": [
  {
   "cell_type": "markdown",
   "metadata": {},
   "source": [
    "# 1. Language Processing and Python\n",
    "* What can we achieve by combining simple programming techniques with large quantities of text?\n",
    "* How can we automatically extract key words and phrases that sum up the style and content of a text?\n",
    "* What tools and techniques does the Python programming language provide for such work?\n",
    "* What are some of the interesting challenges of natural language processing?"
   ]
  },
  {
   "cell_type": "code",
   "execution_count": 10,
   "metadata": {},
   "outputs": [],
   "source": [
    "import nltk"
   ]
  },
  {
   "cell_type": "code",
   "execution_count": 11,
   "metadata": {},
   "outputs": [
    {
     "name": "stdout",
     "output_type": "stream",
     "text": [
      "showing info https://raw.githubusercontent.com/nltk/nltk_data/gh-pages/index.xml\n"
     ]
    },
    {
     "data": {
      "text/plain": [
       "True"
      ]
     },
     "execution_count": 11,
     "metadata": {},
     "output_type": "execute_result"
    }
   ],
   "source": [
    "nltk.download()"
   ]
  },
  {
   "cell_type": "code",
   "execution_count": 13,
   "metadata": {},
   "outputs": [
    {
     "name": "stdout",
     "output_type": "stream",
     "text": [
      "*** Introductory Examples for the NLTK Book ***\n",
      "Loading text1, ..., text9 and sent1, ..., sent9\n",
      "Type the name of the text or sentence to view it.\n",
      "Type: 'texts()' or 'sents()' to list the materials.\n",
      "text1: Moby Dick by Herman Melville 1851\n",
      "text2: Sense and Sensibility by Jane Austen 1811\n",
      "text3: The Book of Genesis\n",
      "text4: Inaugural Address Corpus\n",
      "text5: Chat Corpus\n",
      "text6: Monty Python and the Holy Grail\n",
      "text7: Wall Street Journal\n",
      "text8: Personals Corpus\n",
      "text9: The Man Who Was Thursday by G . K . Chesterton 1908\n"
     ]
    }
   ],
   "source": [
    "from nltk.book import *"
   ]
  },
  {
   "cell_type": "code",
   "execution_count": 14,
   "metadata": {},
   "outputs": [
    {
     "data": {
      "text/plain": [
       "<Text: Wall Street Journal>"
      ]
     },
     "execution_count": 14,
     "metadata": {},
     "output_type": "execute_result"
    }
   ],
   "source": [
    "text7"
   ]
  },
  {
   "cell_type": "code",
   "execution_count": 15,
   "metadata": {},
   "outputs": [
    {
     "name": "stdout",
     "output_type": "stream",
     "text": [
      "Displaying 25 of 43 matches:\n",
      "* to PS of New Hampshire -- such as growth in electricity demand and improved \n",
      "sociation said 0 *T*-1 . The strong growth followed year-to-year increases of \n",
      " three years , despite steady sales growth . Magna recently cut its quarterly \n",
      "am . In another reflection that the growth of the economy is leveling off , th\n",
      " evidence that the nation 's export growth , though *-1 still continuing , may\n",
      "t will provide needed jobs and spur growth . But Asian nations ' harsh memorie\n",
      "ebourg , virtually all of the first growth Bordeaux -LRB- except Petrus -RRB- \n",
      " 12 district banks shows 0 economic growth has been sluggish in recent weeks ,\n",
      " quarter as * posting roughly 2.5 % growth , I do see some slowing in the four\n",
      "wn , there are few clear signs that growth is coming to a halt . As a result ,\n",
      "my remains in a pattern of sluggish growth . In major market activity : Stock \n",
      "al product . `` They view this as a growth area so they went about it with a s\n",
      "ay 0 *T*-1 , the strongest dividend growth has often come at times when the st\n",
      "errill Lynch & Co . Strong dividend growth , he says 0 *T*-1 , is `` the black\n",
      "Boesel , president of T. Rowe Price Growth and Income Fund , explains that com\n",
      "soared 10 % , following much slower growth the year before . The S&P index sta\n",
      "n't always held , but recent strong growth in dividends makes some market watc\n",
      " and Wall Street estimates for 1989 growth are generally between 9 % and 14 % \n",
      "4 % *U* . Many people believe 0 the growth in dividends will slow next year , \n",
      "hat *T*-234 will happen to dividend growth next year ? Common wisdom suggests \n",
      "dom suggests a single-digit rate of growth , reflecting a weakening in the eco\n",
      "nc. , for instance , is forecasting growth in S&P 500 dividends of just under \n",
      "if their earnings weaken . Dividend growth on the order of 12 % is expected *-\n",
      "d be a harbinger of slower dividend growth next year . In any case , opinion *\n",
      "et would get *T*-1 even if dividend growth continues at double-digit levels . \n"
     ]
    }
   ],
   "source": [
    "text7.concordance(\"growth\")"
   ]
  },
  {
   "cell_type": "code",
   "execution_count": 16,
   "metadata": {},
   "outputs": [
    {
     "name": "stdout",
     "output_type": "stream",
     "text": [
      "Displaying 21 of 21 matches:\n",
      "n is not an attempt * to shore up a decline in ad pages in the first nine month\n",
      "etired *-43 early if interest rates decline , and such prepayment forces invest\n",
      "marks the sixth consecutive monthly decline . The protracted downturn reflects \n",
      "follows a sharper $ 2.2 billion *U* decline in the country 's foreign reserves \n",
      " up in October after four months of decline . Factories booked $ 236.74 billion\n",
      "fell 0.1 % in September , the first decline since February 1987 . `` This confo\n",
      "s 0 they purchased *T*-1 fell . The decline was even steeper than in September \n",
      "aywright in 1901 ... After years of decline , weddings in France showed a 2.2 %\n",
      "turing activity `` continues *-1 to decline '' for the fourth month in a row . \n",
      "dards . * Put *-1 another way , the decline in the yield suggests 0 stocks have\n",
      "ends ranged from a gain of 4 % to a decline of 1 % , according to PaineWebber a\n",
      " major farm states 0 *T*-1 to log a decline in net cash income . Despite federa\n",
      " and government payments to farmers decline . At the same time , an increase of\n",
      " likely cause the futures market to decline when he sells his futures *T*-1 . A\n",
      "minate arbitrage and liquidity will decline instead of * rising , * creating mo\n",
      "on program trading when the markets decline *T*-1 , while *-3 hailing the great\n",
      "ning that returns are likely *-1 to decline as the volume of junk-bond financin\n",
      " market . `` The sharp stock market decline in late October appears *-1 to have\n",
      "um Institute , which *T*-2 showed a decline in inventories of the fuel . GRAINS\n",
      "he hope that it will point toward a decline in interest rates . `` I sense that\n",
      " Ralston Purina Co. reported a 47 % decline in fourth-quarter earnings , * refl\n"
     ]
    }
   ],
   "source": [
    "text7.concordance(\"decline\")"
   ]
  },
  {
   "cell_type": "code",
   "execution_count": 17,
   "metadata": {},
   "outputs": [
    {
     "name": "stdout",
     "output_type": "stream",
     "text": [
      "Displaying 25 of 64 matches:\n",
      "ould have been able *-2 to report a profit of $ 19.3 million *U* *ICH*-3 for t\n",
      " until a more satisfactory level of profit is achieved and maintained *-1 , ''\n",
      " has reported declines in operating profit in each of the past three years , d\n",
      "mic Organizations , said *T*-1 . `` Profit may be low , but at least costs sho\n",
      "s a share . A year earlier , it had profit of $ 7.5 million *U* , or 18 cents \n",
      "ng Co. posted a 62 % rise in pretax profit to 5.276 billion yen -LRB- $ 36.9 m\n",
      "eholders into * buying him out at a profit . Mr. Pickens made considerable pol\n",
      "h trading-company venture capital . Profit , at least in the short term , is u\n",
      "hen Mr. Hahn took the reins *T*-1 . Profit from continuing operations has soar\n",
      "sade was based *-23 on greed or the profit motive . But is n't the desire for \n",
      " motive . But is n't the desire for profit the driving force behind those who \n",
      "* to close at $ 47.125 *U* . `` The profit motive of the major shareholders ha\n",
      " widely seen *-1 as sales , and not profit , oriented . `` New managers would \n",
      "and a 15 % improvement in operating profit for fiscal 1989 . `` The way that w\n",
      "imed commodities at `` considerable profit , '' the agency 's 240-page report \n",
      " lock in the difference in price as profit . Such program trades , which *T*-7\n",
      " stock typically earns a razor-thin profit of $ 25,000 *U* . *-1 To keep progr\n",
      " *-2 downward by those seeking * to profit from lower prices , namely short se\n",
      "arkets largely in New York . *-1 To profit from an index-arbitrage opportunity\n",
      " to the arbitrage trader some small profit in order *-1 to get quick and certa\n",
      " ultimate goal of any investor is a profit motive , and regulators should not \n",
      "he long term . A free market with a profit motive will attract each investor t\n",
      "y sizable mutual-fund company could profit from * offering it to small investo\n",
      " him from *-1 gaining any temporary profit . If government or private watchdog\n",
      " then use *T*-1 * to turn a healthy profit . `` This stadium shows that anythi\n"
     ]
    }
   ],
   "source": [
    "text7.concordance(\"profit\")"
   ]
  },
  {
   "cell_type": "code",
   "execution_count": 18,
   "metadata": {},
   "outputs": [
    {
     "name": "stdout",
     "output_type": "stream",
     "text": [
      "it billion but yield million earnings asbestos all drop gains officer\n",
      "review china result charge years director group and form\n"
     ]
    }
   ],
   "source": [
    "text7.similar(\"profit\")"
   ]
  },
  {
   "cell_type": "code",
   "execution_count": null,
   "metadata": {},
   "outputs": [],
   "source": []
  }
 ],
 "metadata": {
  "kernelspec": {
   "display_name": "Python 3",
   "language": "python",
   "name": "python3"
  },
  "language_info": {
   "codemirror_mode": {
    "name": "ipython",
    "version": 3
   },
   "file_extension": ".py",
   "mimetype": "text/x-python",
   "name": "python",
   "nbconvert_exporter": "python",
   "pygments_lexer": "ipython3",
   "version": "3.8.3"
  }
 },
 "nbformat": 4,
 "nbformat_minor": 4
}
